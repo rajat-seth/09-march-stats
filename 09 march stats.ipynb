{
 "cells": [
  {
   "cell_type": "markdown",
   "id": "d5135b96-165d-4cca-a680-ec38c73e2f53",
   "metadata": {},
   "source": [
    "Q1)"
   ]
  },
  {
   "cell_type": "markdown",
   "id": "888ee25c-6f1a-459d-b942-f707b289406d",
   "metadata": {},
   "source": [
    "Probability Mass Function (PMF) and Probability Density Function (PDF) are two fundamental concepts in probability theory and statistics.\n",
    "\n",
    "PMF is used to describe the probability distribution of a discrete random variable. It is a function that gives the probability of each possible value that the random variable can take. The sum of probabilities of all possible values is equal to one.\n",
    "\n",
    "For example, let's consider a fair six-sided die. The PMF of this die is given by:\n",
    "\n",
    "x 1, 2, 3, 4, 5, 6\n",
    "P(X=x) 1/6, 1/6, 1/6, 1/6, 1/6, 1/6\n",
    "Here, X is the random variable that represents the outcome of rolling the die. The PMF of X shows that the probability of getting any number between 1 and 6 is 1/6.\n",
    "\n",
    "PDF, on the other hand, is used to describe the probability distribution of a continuous random variable. It is a function that gives the relative likelihood of the random variable taking on a particular value within a given range. The total area under the PDF curve equals one.\n",
    "\n",
    "For example, let's consider the standard normal distribution with mean 0 and standard deviation 1. The PDF of this distribution is given by:\n",
    "\n",
    " \n"
   ]
  },
  {
   "cell_type": "markdown",
   "id": "6832fe86-9f17-4ec6-9dd7-a6d875932ed6",
   "metadata": {},
   "source": [
    "Q2)"
   ]
  },
  {
   "cell_type": "markdown",
   "id": "2205be62-77fb-46a0-85e1-6a4fc55a6084",
   "metadata": {},
   "source": [
    "Cumulative Distribution Function (CDF) is a function that describes the probability that a random variable takes a value less than or equal to a given value. It is defined as the integral of the Probability Density Function (PDF) for a continuous random variable, or as the sum of the Probability Mass Function (PMF) for a discrete random variable.\n",
    "\n",
    "For a random variable X, the CDF is denoted by F(x), and it is given by:\n",
    "\n",
    "In other words, F(x) gives the probability that the random variable X takes on a value less than or equal to x.\n",
    "\n",
    "For example, let's consider the standard normal distribution with mean \n",
    " and standard deviation 1. The CDF of this distribution is denoted by \n",
    ", and it is given by:\n",
    "\n",
    " \n",
    " \n",
    "\n",
    "Here, \n",
    " represents the probability that a random variable X that follows the standard normal distribution takes on a value less than or equal to x.\n",
    "\n",
    "The CDF is useful because it provides a way to calculate the probability of getting a value less than or equal to a given value, without needing to calculate the probability density function or probability mass function for each value. It also allows us to calculate the probability of getting a value within a range of values by taking the difference of the CDF values at the upper and lower bounds of the range."
   ]
  },
  {
   "cell_type": "markdown",
   "id": "8c47aa8c-6cff-4ce2-a743-484099e4454b",
   "metadata": {},
   "source": [
    "Q3)"
   ]
  },
  {
   "cell_type": "markdown",
   "id": "e8c77aea-ad34-4bb3-8210-358731586ba3",
   "metadata": {},
   "source": [
    "The normal distribution, also known as the Gaussian distribution, is a probability distribution that is commonly used as a model for a wide range of natural phenomena and data sets in many different fields, such as physics, engineering, social sciences, and finance. Some examples of situations where the normal distribution might be used as a model include:\n",
    "\n",
    "Heights of individuals in a population\n",
    "Weights of objects produced by a factory\n",
    "IQ scores in a population\n",
    "Test scores in a large class\n",
    "Lengths of fish in a lake\n",
    "Blood pressure readings in a population\n",
    "The normal distribution is characterized by two parameters:the mean (μ) and the standard deviation (σ). The mean represents the center of the distribution, while the standard deviation represents the spread or variability of the distribution.\n",
    "\n",
    "The shape of the normal distribution is determined by these two parameters. Specifically, the mean determines the location of the peak of the distribution, while the standard deviation determines the width of the distribution. A larger standard deviation corresponds to a wider distribution with more spread-out values, while a smaller standard deviation corresponds to a narrower distribution with values clustered more tightly around the mean.\n",
    "\n",
    "Additionally, the normal distribution is symmetric around the mean, meaning that the probability of obtaining a value above the mean is the same as the probability of obtaining a value below the mean. The total area under the curve of the normal distribution is equal to 1, meaning that the probability of obtaining any value within the distribution is 1."
   ]
  },
  {
   "cell_type": "markdown",
   "id": "97e2e7f1-2095-4ea1-8695-39db5f244536",
   "metadata": {},
   "source": [
    "Q4)"
   ]
  },
  {
   "cell_type": "markdown",
   "id": "bab2cea8-ff95-47de-b787-e41a661aa457",
   "metadata": {},
   "source": [
    "The normal distribution is an important and widely used probability distribution in statistics and data analysis. It is also known as the Gaussian distribution, after the mathematician Carl Friedrich Gauss who first described it. Some of the reasons for its importance are:\n",
    "\n",
    "It is a versatile distribution that can be used to model a wide range of phenomena in many different fields. This includes physical measurements such as height, weight, and length, as well as cognitive measurements such as IQ scores and test scores.\n",
    "Many statistical methods rely on the assumption that the data follows a normal distribution, including hypothesis testing, confidence interval estimation, and linear regression analysis.\n",
    "It has a well-defined mathematical form and known properties, which allows for easy calculation of probabilities, means, and variances.\n",
    "The central limit theorem states that the sum of many independent and identically distributed random variables tends to follow a normal distribution, regardless of the underlying distribution of the individual variables. This makes the normal distribution a natural choice for modeling the sum or average of a large number of random variables"
   ]
  },
  {
   "cell_type": "markdown",
   "id": "5578c720-ca6f-457e-a9f0-6c829ad66ccd",
   "metadata": {},
   "source": [
    "Q5)"
   ]
  },
  {
   "cell_type": "markdown",
   "id": "3389988b-4750-44e3-972e-a359d3e5ec5e",
   "metadata": {},
   "source": [
    "The Bernoulli distribution is a discrete probability distribution that represents the outcome of a single binary event with probability of success (often denoted as \"p\") and probability of failure (often denoted as \"1-p\"). The distribution takes on the value of 1 with probability p and the value of 0 with probability (1-p).\n",
    "\n",
    "For example, flipping a coin can be modeled as a Bernoulli distribution, where p represents the probability of getting heads and 1-p represents the probability of getting tails. Another example is rolling a die and observing whether a particular number comes up or not.\n",
    "The difference between the Bernoulli distribution and the binomial distribution is that the Bernoulli distribution models a single binary event while the binomial distribution models the number of successes in a fixed number of independent Bernoulli trials. In other words, the binomial distribution is the sum of independent and identically distributed Bernoulli random variables.\n",
    "\n",
    "For example, rolling a die 10 times and counting the number of times a particular number comes up can be modeled using a binomial distribution. In this case, each roll of the die is an independent Bernoulli trial, and the binomial distribution represents the number of successes (i.e., the number of times the particular number comes up) in the 10 trials.\n",
    "The binomial distribution has two parameters: the number of trials (n) and the probability of success (p). The mean of the binomial distribution is np and the variance is np(1-p). As the number of trials increases, the binomial distribution approaches a normal distribution."
   ]
  },
  {
   "cell_type": "markdown",
   "id": "6c9f9636-7b04-49c3-9c93-65cdd50bef2f",
   "metadata": {},
   "source": [
    "Q6)"
   ]
  },
  {
   "cell_type": "markdown",
   "id": "846a3102-4378-4ac2-8430-d2d478d16bc2",
   "metadata": {},
   "source": [
    "To solve this problem, we can use the standard normal distribution and the Z-score formula:\n",
    "\n",
    " \n",
    "\n",
    "where X is the observation we are interested in, \n",
    " is the mean of the distribution,\n",
    " is the standard deviation of the distribution, and Z is the corresponding Z-score.\n",
    "\n",
    "In this case, we have:\n",
    "\n",
    "X = 60 \n",
    " = 50 \n",
    "= 10\n",
    "\n",
    "Using the formula, we can calculate the Z-score:\n",
    "\n",
    " \n",
    " \n",
    "\n",
    "The Z-score tells us how many standard deviations away from the mean the observation is. A Z-score of 1 means that the observation is 1 standard deviation above the mean.\n",
    "\n",
    "Next, we need to find the area under the standard normal distribution curve to the right of the Z-score. We can use a Z-table or a calculator to find this area. For example, using a calculator, we can use the standard normal distribution function (norm.dist) with a mean of 0 and a standard deviation of 1, and set the cumulative parameter to TRUE to get the area to the right of the Z-score:\n",
    "\n",
    "P(Z > 1) = 1 - norm.dist(1, 0, 1, TRUE) = 0.1587\n",
    "Therefore, the probability that a randomly selected observation will be greater than 60 is approximately 0.1587 or 15.87%."
   ]
  },
  {
   "cell_type": "markdown",
   "id": "85e9859b-f64e-416e-b179-dcda18ae5afb",
   "metadata": {},
   "source": [
    "Q7)"
   ]
  },
  {
   "cell_type": "markdown",
   "id": "4cefd7b8-26cc-4864-8941-f207c315bf5b",
   "metadata": {},
   "source": [
    "Uniform distribution is a continuous probability distribution where all outcomes have equal probability. In other words, it is a probability distribution where each value within a specified range is equally likely to occur.\n",
    "\n",
    "For example, rolling a fair six-sided die can be modeled using a uniform distribution, where each of the six possible outcomes (1, 2, 3, 4, 5, 6) has an equal probability of occurring.\n",
    "Another example of uniform distribution is the distribution of random numbers generated by a computer program or a calculator, where each number between 0 and 1 (or any other specified range) is equally likely to occur.\n",
    "\n",
    "In a uniform distribution, the probability density function is constant within the specified range and zero outside that range. The mean of a uniform distribution is the average of the minimum and maximum values in the range, and the variance is given by \n",
    " \n",
    ", where a and b are the minimum and maximum values in the range, respectively"
   ]
  },
  {
   "cell_type": "markdown",
   "id": "430320d4-0a89-4b18-801a-bee62c72c029",
   "metadata": {},
   "source": [
    "Q8)"
   ]
  },
  {
   "cell_type": "markdown",
   "id": "8d82dff1-e944-4dae-be07-3ba31390ce33",
   "metadata": {},
   "source": [
    "A Z-score, also known as a standard score, is a measure of how many standard deviations an observation or data point is from the mean of the distribution. It is calculated by subtracting the mean from the observation and dividing by the standard deviation:\n",
    "\n",
    " \n",
    "where Z is the Z-scor, X is the observation or data point, \n",
    " is the mean of the distribution, and \n",
    " is the standard deviation of the distribution.\n",
    "\n",
    "The Z-score is important because it allows us to compare observations or data points from different distributions that may have different units or scales. By converting each observation or data point to a Z-score, we can standardize the data and compare them on a common scale.\n",
    "\n",
    "For example, if we are comparing the test scores of two different classes, where one class had a mean score of 75 and a standard deviation of 10, and the other class had a mean score of 85 and a standard deviation of 15, we cannot compare the raw scores directly because they are on different scales. However, by converting each score to a Z-score using the appropriate mean and standard deviation, we can compare the scores on a common scale and determine which class performed relatively better or worse.\n",
    "\n",
    "The Z-score is also used in hypothesis testing, where we compare the Z-score of a sample to a critical value from a standard normal distribution to determine whether the sample is significantly different from the population."
   ]
  },
  {
   "cell_type": "code",
   "execution_count": null,
   "id": "ca8885a7-4020-4b02-82bc-22cad9ca96a1",
   "metadata": {},
   "outputs": [],
   "source": [
    "Q9)"
   ]
  }
 ],
 "metadata": {
  "kernelspec": {
   "display_name": "Python 3 (ipykernel)",
   "language": "python",
   "name": "python3"
  },
  "language_info": {
   "codemirror_mode": {
    "name": "ipython",
    "version": 3
   },
   "file_extension": ".py",
   "mimetype": "text/x-python",
   "name": "python",
   "nbconvert_exporter": "python",
   "pygments_lexer": "ipython3",
   "version": "3.10.8"
  }
 },
 "nbformat": 4,
 "nbformat_minor": 5
}
